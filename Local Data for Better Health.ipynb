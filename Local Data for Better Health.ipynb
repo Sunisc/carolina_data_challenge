{
 "cells": [
  {
   "cell_type": "code",
   "execution_count": 73,
   "metadata": {},
   "outputs": [],
   "source": [
    "import pandas as pd\n",
    "import numpy as np\n",
    "import matplotlib.pyplot as plt\n",
    "import seaborn as sns\n",
    "%matplotlib inline"
   ]
  },
  {
   "cell_type": "code",
   "execution_count": 74,
   "metadata": {},
   "outputs": [],
   "source": [
    "df = pd.read_csv(r'C:\\Users\\samee\\Google Drive\\Carolina Data Challenge\\500_Cities__Local_Data_for_Better_Health__2017_release.csv')"
   ]
  },
  {
   "cell_type": "code",
   "execution_count": 75,
   "metadata": {},
   "outputs": [
    {
     "data": {
      "text/html": [
       "<div>\n",
       "<style scoped>\n",
       "    .dataframe tbody tr th:only-of-type {\n",
       "        vertical-align: middle;\n",
       "    }\n",
       "\n",
       "    .dataframe tbody tr th {\n",
       "        vertical-align: top;\n",
       "    }\n",
       "\n",
       "    .dataframe thead th {\n",
       "        text-align: right;\n",
       "    }\n",
       "</style>\n",
       "<table border=\"1\" class=\"dataframe\">\n",
       "  <thead>\n",
       "    <tr style=\"text-align: right;\">\n",
       "      <th></th>\n",
       "      <th>Year</th>\n",
       "      <th>StateAbbr</th>\n",
       "      <th>StateDesc</th>\n",
       "      <th>CityName</th>\n",
       "      <th>GeographicLevel</th>\n",
       "      <th>DataSource</th>\n",
       "      <th>Category</th>\n",
       "      <th>UniqueID</th>\n",
       "      <th>Measure</th>\n",
       "      <th>Data_Value_Unit</th>\n",
       "      <th>...</th>\n",
       "      <th>High_Confidence_Limit</th>\n",
       "      <th>Data_Value_Footnote_Symbol</th>\n",
       "      <th>Data_Value_Footnote</th>\n",
       "      <th>PopulationCount</th>\n",
       "      <th>GeoLocation</th>\n",
       "      <th>CategoryID</th>\n",
       "      <th>MeasureId</th>\n",
       "      <th>CityFIPS</th>\n",
       "      <th>TractFIPS</th>\n",
       "      <th>Short_Question_Text</th>\n",
       "    </tr>\n",
       "  </thead>\n",
       "  <tbody>\n",
       "    <tr>\n",
       "      <th>0</th>\n",
       "      <td>2015</td>\n",
       "      <td>US</td>\n",
       "      <td>United States</td>\n",
       "      <td>NaN</td>\n",
       "      <td>US</td>\n",
       "      <td>BRFSS</td>\n",
       "      <td>Prevention</td>\n",
       "      <td>59</td>\n",
       "      <td>Current lack of health insurance among adults ...</td>\n",
       "      <td>%</td>\n",
       "      <td>...</td>\n",
       "      <td>15.7</td>\n",
       "      <td>NaN</td>\n",
       "      <td>NaN</td>\n",
       "      <td>308745538.0</td>\n",
       "      <td>NaN</td>\n",
       "      <td>PREVENT</td>\n",
       "      <td>ACCESS2</td>\n",
       "      <td>NaN</td>\n",
       "      <td>NaN</td>\n",
       "      <td>Health Insurance</td>\n",
       "    </tr>\n",
       "    <tr>\n",
       "      <th>1</th>\n",
       "      <td>2015</td>\n",
       "      <td>US</td>\n",
       "      <td>United States</td>\n",
       "      <td>NaN</td>\n",
       "      <td>US</td>\n",
       "      <td>BRFSS</td>\n",
       "      <td>Prevention</td>\n",
       "      <td>59</td>\n",
       "      <td>Current lack of health insurance among adults ...</td>\n",
       "      <td>%</td>\n",
       "      <td>...</td>\n",
       "      <td>15.0</td>\n",
       "      <td>NaN</td>\n",
       "      <td>NaN</td>\n",
       "      <td>308745538.0</td>\n",
       "      <td>NaN</td>\n",
       "      <td>PREVENT</td>\n",
       "      <td>ACCESS2</td>\n",
       "      <td>NaN</td>\n",
       "      <td>NaN</td>\n",
       "      <td>Health Insurance</td>\n",
       "    </tr>\n",
       "    <tr>\n",
       "      <th>2</th>\n",
       "      <td>2015</td>\n",
       "      <td>US</td>\n",
       "      <td>United States</td>\n",
       "      <td>NaN</td>\n",
       "      <td>US</td>\n",
       "      <td>BRFSS</td>\n",
       "      <td>Health Outcomes</td>\n",
       "      <td>59</td>\n",
       "      <td>Arthritis among adults aged &gt;=18 Years</td>\n",
       "      <td>%</td>\n",
       "      <td>...</td>\n",
       "      <td>22.7</td>\n",
       "      <td>NaN</td>\n",
       "      <td>NaN</td>\n",
       "      <td>308745538.0</td>\n",
       "      <td>NaN</td>\n",
       "      <td>HLTHOUT</td>\n",
       "      <td>ARTHRITIS</td>\n",
       "      <td>NaN</td>\n",
       "      <td>NaN</td>\n",
       "      <td>Arthritis</td>\n",
       "    </tr>\n",
       "    <tr>\n",
       "      <th>3</th>\n",
       "      <td>2015</td>\n",
       "      <td>US</td>\n",
       "      <td>United States</td>\n",
       "      <td>NaN</td>\n",
       "      <td>US</td>\n",
       "      <td>BRFSS</td>\n",
       "      <td>Health Outcomes</td>\n",
       "      <td>59</td>\n",
       "      <td>Arthritis among adults aged &gt;=18 Years</td>\n",
       "      <td>%</td>\n",
       "      <td>...</td>\n",
       "      <td>24.9</td>\n",
       "      <td>NaN</td>\n",
       "      <td>NaN</td>\n",
       "      <td>308745538.0</td>\n",
       "      <td>NaN</td>\n",
       "      <td>HLTHOUT</td>\n",
       "      <td>ARTHRITIS</td>\n",
       "      <td>NaN</td>\n",
       "      <td>NaN</td>\n",
       "      <td>Arthritis</td>\n",
       "    </tr>\n",
       "    <tr>\n",
       "      <th>4</th>\n",
       "      <td>2015</td>\n",
       "      <td>US</td>\n",
       "      <td>United States</td>\n",
       "      <td>NaN</td>\n",
       "      <td>US</td>\n",
       "      <td>BRFSS</td>\n",
       "      <td>Unhealthy Behaviors</td>\n",
       "      <td>59</td>\n",
       "      <td>Binge drinking among adults aged &gt;=18 Years</td>\n",
       "      <td>%</td>\n",
       "      <td>...</td>\n",
       "      <td>17.4</td>\n",
       "      <td>NaN</td>\n",
       "      <td>NaN</td>\n",
       "      <td>308745538.0</td>\n",
       "      <td>NaN</td>\n",
       "      <td>UNHBEH</td>\n",
       "      <td>BINGE</td>\n",
       "      <td>NaN</td>\n",
       "      <td>NaN</td>\n",
       "      <td>Binge Drinking</td>\n",
       "    </tr>\n",
       "  </tbody>\n",
       "</table>\n",
       "<p>5 rows × 24 columns</p>\n",
       "</div>"
      ],
      "text/plain": [
       "   Year StateAbbr      StateDesc CityName GeographicLevel DataSource  \\\n",
       "0  2015        US  United States      NaN              US      BRFSS   \n",
       "1  2015        US  United States      NaN              US      BRFSS   \n",
       "2  2015        US  United States      NaN              US      BRFSS   \n",
       "3  2015        US  United States      NaN              US      BRFSS   \n",
       "4  2015        US  United States      NaN              US      BRFSS   \n",
       "\n",
       "              Category UniqueID  \\\n",
       "0           Prevention       59   \n",
       "1           Prevention       59   \n",
       "2      Health Outcomes       59   \n",
       "3      Health Outcomes       59   \n",
       "4  Unhealthy Behaviors       59   \n",
       "\n",
       "                                             Measure Data_Value_Unit  \\\n",
       "0  Current lack of health insurance among adults ...               %   \n",
       "1  Current lack of health insurance among adults ...               %   \n",
       "2             Arthritis among adults aged >=18 Years               %   \n",
       "3             Arthritis among adults aged >=18 Years               %   \n",
       "4        Binge drinking among adults aged >=18 Years               %   \n",
       "\n",
       "          ...         High_Confidence_Limit Data_Value_Footnote_Symbol  \\\n",
       "0         ...                          15.7                        NaN   \n",
       "1         ...                          15.0                        NaN   \n",
       "2         ...                          22.7                        NaN   \n",
       "3         ...                          24.9                        NaN   \n",
       "4         ...                          17.4                        NaN   \n",
       "\n",
       "   Data_Value_Footnote  PopulationCount  GeoLocation CategoryID  MeasureId  \\\n",
       "0                  NaN      308745538.0          NaN    PREVENT    ACCESS2   \n",
       "1                  NaN      308745538.0          NaN    PREVENT    ACCESS2   \n",
       "2                  NaN      308745538.0          NaN    HLTHOUT  ARTHRITIS   \n",
       "3                  NaN      308745538.0          NaN    HLTHOUT  ARTHRITIS   \n",
       "4                  NaN      308745538.0          NaN     UNHBEH      BINGE   \n",
       "\n",
       "   CityFIPS TractFIPS Short_Question_Text  \n",
       "0       NaN       NaN    Health Insurance  \n",
       "1       NaN       NaN    Health Insurance  \n",
       "2       NaN       NaN           Arthritis  \n",
       "3       NaN       NaN           Arthritis  \n",
       "4       NaN       NaN      Binge Drinking  \n",
       "\n",
       "[5 rows x 24 columns]"
      ]
     },
     "execution_count": 75,
     "metadata": {},
     "output_type": "execute_result"
    }
   ],
   "source": [
    "df.head()"
   ]
  },
  {
   "cell_type": "code",
   "execution_count": 76,
   "metadata": {},
   "outputs": [],
   "source": [
    "df = df[df['GeographicLevel'] == 'City']"
   ]
  },
  {
   "cell_type": "code",
   "execution_count": 77,
   "metadata": {},
   "outputs": [],
   "source": [
    "df = df[df['Category'] == 'Unhealthy Behaviors']"
   ]
  },
  {
   "cell_type": "code",
   "execution_count": 78,
   "metadata": {},
   "outputs": [],
   "source": [
    "df = df[df['DataValueTypeID'] == 'AgeAdjPrv']"
   ]
  },
  {
   "cell_type": "code",
   "execution_count": 79,
   "metadata": {},
   "outputs": [
    {
     "data": {
      "text/plain": [
       "<pandas.core.groupby.groupby.DataFrameGroupBy object at 0x00000209B9FB8908>"
      ]
     },
     "execution_count": 79,
     "metadata": {},
     "output_type": "execute_result"
    }
   ],
   "source": [
    "df.groupby(by='Short_Question_Text')"
   ]
  },
  {
   "cell_type": "code",
   "execution_count": 80,
   "metadata": {},
   "outputs": [
    {
     "data": {
      "text/plain": [
       "Index(['Year', 'StateAbbr', 'StateDesc', 'CityName', 'GeographicLevel',\n",
       "       'DataSource', 'Category', 'UniqueID', 'Measure', 'Data_Value_Unit',\n",
       "       'DataValueTypeID', 'Data_Value_Type', 'Data_Value',\n",
       "       'Low_Confidence_Limit', 'High_Confidence_Limit',\n",
       "       'Data_Value_Footnote_Symbol', 'Data_Value_Footnote', 'PopulationCount',\n",
       "       'GeoLocation', 'CategoryID', 'MeasureId', 'CityFIPS', 'TractFIPS',\n",
       "       'Short_Question_Text'],\n",
       "      dtype='object')"
      ]
     },
     "execution_count": 80,
     "metadata": {},
     "output_type": "execute_result"
    }
   ],
   "source": [
    "df.columns"
   ]
  },
  {
   "cell_type": "code",
   "execution_count": 81,
   "metadata": {},
   "outputs": [],
   "source": [
    "fin = df[['Short_Question_Text', 'Data_Value']]"
   ]
  },
  {
   "cell_type": "code",
   "execution_count": 82,
   "metadata": {},
   "outputs": [
    {
     "data": {
      "text/html": [
       "<div>\n",
       "<style scoped>\n",
       "    .dataframe tbody tr th:only-of-type {\n",
       "        vertical-align: middle;\n",
       "    }\n",
       "\n",
       "    .dataframe tbody tr th {\n",
       "        vertical-align: top;\n",
       "    }\n",
       "\n",
       "    .dataframe thead th {\n",
       "        text-align: right;\n",
       "    }\n",
       "</style>\n",
       "<table border=\"1\" class=\"dataframe\">\n",
       "  <thead>\n",
       "    <tr style=\"text-align: right;\">\n",
       "      <th></th>\n",
       "      <th>Short_Question_Text</th>\n",
       "      <th>Data_Value</th>\n",
       "    </tr>\n",
       "  </thead>\n",
       "  <tbody>\n",
       "    <tr>\n",
       "      <th>256</th>\n",
       "      <td>Binge Drinking</td>\n",
       "      <td>11.2</td>\n",
       "    </tr>\n",
       "    <tr>\n",
       "      <th>1461</th>\n",
       "      <td>Current Smoking</td>\n",
       "      <td>24.6</td>\n",
       "    </tr>\n",
       "    <tr>\n",
       "      <th>1957</th>\n",
       "      <td>Physical Inactivity</td>\n",
       "      <td>37.3</td>\n",
       "    </tr>\n",
       "    <tr>\n",
       "      <th>2257</th>\n",
       "      <td>Obesity</td>\n",
       "      <td>42.7</td>\n",
       "    </tr>\n",
       "    <tr>\n",
       "      <th>2552</th>\n",
       "      <td>Sleep &lt; 7 hours</td>\n",
       "      <td>46.9</td>\n",
       "    </tr>\n",
       "  </tbody>\n",
       "</table>\n",
       "</div>"
      ],
      "text/plain": [
       "      Short_Question_Text  Data_Value\n",
       "256        Binge Drinking        11.2\n",
       "1461      Current Smoking        24.6\n",
       "1957  Physical Inactivity        37.3\n",
       "2257              Obesity        42.7\n",
       "2552      Sleep < 7 hours        46.9"
      ]
     },
     "execution_count": 82,
     "metadata": {},
     "output_type": "execute_result"
    }
   ],
   "source": [
    "fin.head()"
   ]
  },
  {
   "cell_type": "code",
   "execution_count": 83,
   "metadata": {},
   "outputs": [
    {
     "data": {
      "text/html": [
       "<div>\n",
       "<style scoped>\n",
       "    .dataframe tbody tr th:only-of-type {\n",
       "        vertical-align: middle;\n",
       "    }\n",
       "\n",
       "    .dataframe tbody tr th {\n",
       "        vertical-align: top;\n",
       "    }\n",
       "\n",
       "    .dataframe thead th {\n",
       "        text-align: right;\n",
       "    }\n",
       "</style>\n",
       "<table border=\"1\" class=\"dataframe\">\n",
       "  <thead>\n",
       "    <tr style=\"text-align: right;\">\n",
       "      <th></th>\n",
       "      <th>Sleep</th>\n",
       "    </tr>\n",
       "  </thead>\n",
       "  <tbody>\n",
       "    <tr>\n",
       "      <th>0</th>\n",
       "      <td>46.9</td>\n",
       "    </tr>\n",
       "    <tr>\n",
       "      <th>1</th>\n",
       "      <td>34.6</td>\n",
       "    </tr>\n",
       "    <tr>\n",
       "      <th>2</th>\n",
       "      <td>39.7</td>\n",
       "    </tr>\n",
       "    <tr>\n",
       "      <th>3</th>\n",
       "      <td>42.2</td>\n",
       "    </tr>\n",
       "    <tr>\n",
       "      <th>4</th>\n",
       "      <td>41.3</td>\n",
       "    </tr>\n",
       "  </tbody>\n",
       "</table>\n",
       "</div>"
      ],
      "text/plain": [
       "   Sleep\n",
       "0   46.9\n",
       "1   34.6\n",
       "2   39.7\n",
       "3   42.2\n",
       "4   41.3"
      ]
     },
     "execution_count": 83,
     "metadata": {},
     "output_type": "execute_result"
    }
   ],
   "source": [
    "fin = df[df['Short_Question_Text'] == 'Binge Drinking'][['Short_Question_Text', 'Data_Value']]\n",
    "fin.index = range(len(fin))\n",
    "fin.head()\n",
    "fin = fin[['Data_Value']]\n",
    "fin.columns = ['Binge']\n",
    "fin.head()\n",
    "\n",
    "smok = df[df['Short_Question_Text'] == 'Current Smoking'][['Short_Question_Text', 'Data_Value']]\n",
    "smok.index = range(len(fin))\n",
    "smok.head()\n",
    "smok = smok[['Data_Value']]\n",
    "smok.columns = ['Smoke']\n",
    "smok.head()\n",
    "\n",
    "phys = df[df['Short_Question_Text'] == 'Physical Inactivity'][['Short_Question_Text', 'Data_Value']]\n",
    "phys.index = range(len(fin))\n",
    "phys.head()\n",
    "phys = phys[['Data_Value']]\n",
    "phys.columns = ['Inactive']\n",
    "phys.head()\n",
    "\n",
    "obes = df[df['Short_Question_Text'] == 'Obesity'][['Short_Question_Text', 'Data_Value']]\n",
    "obes.index = range(len(fin))\n",
    "obes.head()\n",
    "obes = obes[['Data_Value']]\n",
    "obes.columns = ['Obesity']\n",
    "obes.head()\n",
    "\n",
    "sleep = df[df['Short_Question_Text'] == 'Sleep < 7 hours'][['Short_Question_Text', 'Data_Value']]\n",
    "sleep.index = range(len(fin))\n",
    "sleep.head()\n",
    "sleep = sleep[['Data_Value']]\n",
    "sleep.columns = ['Sleep']\n",
    "sleep.head()"
   ]
  },
  {
   "cell_type": "code",
   "execution_count": 101,
   "metadata": {},
   "outputs": [],
   "source": [
    "frames = [fin, smok, phys, obes, sleep]\n",
    "final = pd.concat(frames, axis=1)"
   ]
  },
  {
   "cell_type": "code",
   "execution_count": 104,
   "metadata": {},
   "outputs": [],
   "source": [
    "final.to_csv(r'C:\\Users\\samee\\Google Drive\\Carolina Data Challenge\\r_data.csv')"
   ]
  },
  {
   "cell_type": "code",
   "execution_count": null,
   "metadata": {},
   "outputs": [],
   "source": []
  }
 ],
 "metadata": {
  "kernelspec": {
   "display_name": "Python 3",
   "language": "python",
   "name": "python3"
  },
  "language_info": {
   "codemirror_mode": {
    "name": "ipython",
    "version": 3
   },
   "file_extension": ".py",
   "mimetype": "text/x-python",
   "name": "python",
   "nbconvert_exporter": "python",
   "pygments_lexer": "ipython3",
   "version": "3.6.6"
  }
 },
 "nbformat": 4,
 "nbformat_minor": 2
}
